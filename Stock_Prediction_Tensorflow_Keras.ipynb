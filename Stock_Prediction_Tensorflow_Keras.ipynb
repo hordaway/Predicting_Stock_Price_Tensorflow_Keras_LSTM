{
 "cells": [
  {
   "cell_type": "code",
   "execution_count": 1,
   "metadata": {},
   "outputs": [
    {
     "name": "stderr",
     "output_type": "stream",
     "text": [
      "Using TensorFlow backend.\n"
     ]
    }
   ],
   "source": [
    "import pandas as pd\n",
    "from keras.layers.core import Dense, Activation, Dropout\n",
    "from keras.layers.recurrent import LSTM\n",
    "from keras.models import Sequential\n",
    "from sklearn.preprocessing import MinMaxScaler\n",
    "from sklearn.metrics import mean_squared_error\n",
    "import math\n",
    "import numpy\n",
    "import matplotlib.pyplot as plt\n"
   ]
  },
  {
   "cell_type": "code",
   "execution_count": 2,
   "metadata": {
    "collapsed": true
   },
   "outputs": [],
   "source": [
    "# Parameters. Choose the stock for the analysis. Also choose the delta_time of the prediction \n",
    "# (look_back variable, if you want to predict one day, two days, etc...). Here we chose Google stock price. \n",
    "\n",
    "companies = 'GOOG'\n",
    "look_back = 1"
   ]
  },
  {
   "cell_type": "code",
   "execution_count": 3,
   "metadata": {
    "collapsed": true
   },
   "outputs": [],
   "source": [
    "# This function retrieves the closing price of the stock. \n",
    "\n",
    "def get_historical_close_data(name):\n",
    "    url = \"https://www.google.com/finance/historical?q=%s&startdate=01-Jan-2000&output=csv\"%name\n",
    "    \n",
    "    data = pd.read_csv(url)\n",
    "    data = data.loc[:,('Date','Close')]\n",
    "    data = data.sort_index(ascending = False)\n",
    "    return data"
   ]
  },
  {
   "cell_type": "code",
   "execution_count": 4,
   "metadata": {
    "collapsed": true
   },
   "outputs": [],
   "source": [
    "# This function normalizes the data (using min max sklearn package). We can achieve better predictions using normalized \n",
    "# data. After making the prediciton, we \"undo\" the normalization using the de_normalization function.\n",
    "\n",
    "\n",
    "def normalization(data):\n",
    "    scaler = MinMaxScaler(feature_range = (0,1))\n",
    "    data_norm = scaler.fit_transform(data)\n",
    "    \n",
    "    return data_norm\n",
    "\n",
    "def de_normalization(data, new_data):\n",
    "    scaler = MinMaxScaler(feature_range = (0,1))\n",
    "    scaler.fit_transform(data)\n",
    "    unormalized = scaler.inverse_transform(new_data)\n",
    "    \n",
    "    return unormalized"
   ]
  },
  {
   "cell_type": "code",
   "execution_count": 5,
   "metadata": {
    "collapsed": true
   },
   "outputs": [],
   "source": [
    "# Time Series train test split is different from the usual split. We cannot select randomly because the sequence of\n",
    "# information presented by the time series is important. In this case, we will use the first 2/3 of the data set \n",
    "# as training set, and the other 1/3 data set as testing set. Later, we will use other methods for comparison. \n",
    "\n",
    "\n",
    "def split_train_test(data):\n",
    "    \n",
    "\n",
    "    # split into train and test sets\n",
    "    train_size = int(len(data) * 0.67)\n",
    "    train, test = data[0:train_size,], data[train_size:len(data),]\n",
    "    return train, test\n"
   ]
  },
  {
   "cell_type": "code",
   "execution_count": 6,
   "metadata": {
    "collapsed": true
   },
   "outputs": [],
   "source": [
    "# This function creates a dataset with two series, the first one is our database (series of prices), and the second one \n",
    "# is the same database that will be predicted. This second database is our price list moved one day ahead (look_back variable)\n",
    "\n",
    "\n",
    "def create_dataset(dataset, lookback):\n",
    "    dataX, dataY = [], []\n",
    "    for i in range(len(dataset)-lookback-1):\n",
    "        a = dataset[i:(i+lookback), ]\n",
    "        dataX.append(a)\n",
    "        dataY.append(dataset[i + lookback, ])\n",
    "    return numpy.array(dataX), numpy.array(dataY)\n"
   ]
  },
  {
   "cell_type": "code",
   "execution_count": 7,
   "metadata": {
    "collapsed": true
   },
   "outputs": [],
   "source": [
    "# Here we have the code to retrieve and work the dataset, using the functions defined above. \n",
    "\n",
    "dataset = get_historical_close_data(companies)\n",
    "\n",
    "dataset_norm = normalization(dataset['Close'].values.reshape(-1,1))\n",
    "\n",
    "train_dataset, test_dataset = split_train_test(dataset_norm)\n",
    "\n",
    "train_X, train_y = create_dataset(train_dataset, look_back)\n",
    "\n",
    "test_X, test_y = create_dataset(test_dataset,look_back)\n"
   ]
  },
  {
   "cell_type": "code",
   "execution_count": 8,
   "metadata": {
    "collapsed": true
   },
   "outputs": [],
   "source": [
    "# We are going to reshape the X set because the LSTM cells of the tensorflow receives as input the \n",
    "# [samples, timesteps, features]\n",
    "train_X = numpy.reshape(train_X, (train_X.shape[0], 1 , train_X.shape[1]))\n",
    "test_X = numpy.reshape(test_X, (test_X.shape[0], 1, test_X.shape[1]))\n"
   ]
  },
  {
   "cell_type": "code",
   "execution_count": 10,
   "metadata": {},
   "outputs": [
    {
     "name": "stdout",
     "output_type": "stream",
     "text": [
      "Epoch 1/3\n",
      "27s - loss: 0.0010\n",
      "Epoch 2/3\n",
      "25s - loss: 3.6086e-05\n",
      "Epoch 3/3\n",
      "25s - loss: 3.7248e-05\n"
     ]
    },
    {
     "data": {
      "text/plain": [
       "<keras.callbacks.History at 0x11ed400b8>"
      ]
     },
     "execution_count": 10,
     "metadata": {},
     "output_type": "execute_result"
    }
   ],
   "source": [
    "# Now let's go to the model. First we stablish our model as a sequential one (time series). Than we add four Long Short\n",
    "# Term Memories, one Dense Layer (it is used change the dimension of the vector), The compile with a loss function and\n",
    "# an optimizer and finally, the fit function, with 3 epochs (more than that we fall into over training). \n",
    "\n",
    "model = Sequential()\n",
    "model.add(LSTM(32, input_shape=(None,1)))\n",
    "model.add(Dense(1))\n",
    "model.compile(loss='mean_squared_error', optimizer='adam')\n",
    "model.fit(train_X, train_y, epochs=3, batch_size=1, verbose=2)"
   ]
  },
  {
   "cell_type": "code",
   "execution_count": 11,
   "metadata": {
    "collapsed": true
   },
   "outputs": [],
   "source": [
    "# Now lets make the predictions of the normalized data.\n",
    "trainPredict = model.predict(train_X)\n",
    "testPredict = model.predict(test_X)"
   ]
  },
  {
   "cell_type": "code",
   "execution_count": 12,
   "metadata": {
    "collapsed": true
   },
   "outputs": [],
   "source": [
    "# Revert the predictions from normalized to regular values\n",
    "\n",
    "trainPredict = de_normalization(dataset['Close'].values.reshape(-1,1), trainPredict)\n",
    "train_y = de_normalization(dataset['Close'].values.reshape(-1,1),train_y)\n",
    "testPredict = de_normalization(dataset['Close'].values.reshape(-1,1), testPredict)\n",
    "test_y = de_normalization(dataset['Close'].values.reshape(-1,1),test_y)"
   ]
  },
  {
   "cell_type": "code",
   "execution_count": 13,
   "metadata": {},
   "outputs": [
    {
     "name": "stdout",
     "output_type": "stream",
     "text": [
      "Train Score: 4.87 RMSE\n",
      "Test Score: 16.71 RMSE\n"
     ]
    }
   ],
   "source": [
    "# Now lets compute the mean squared error.\n",
    "trainScore = math.sqrt(mean_squared_error(train_y, trainPredict[:,0]))\n",
    "print('Train Score: %.2f RMSE' % (trainScore))\n",
    "testScore = math.sqrt(mean_squared_error(test_y, testPredict[:,0]))\n",
    "print('Test Score: %.2f RMSE' % (testScore))\n"
   ]
  },
  {
   "cell_type": "code",
   "execution_count": 14,
   "metadata": {},
   "outputs": [
    {
     "data": {
      "image/png": "[encoded data removed]",
      "text/plain": [
       "<matplotlib.figure.Figure at 0x1231629e8>"
      ]
     },
     "metadata": {},
     "output_type": "display_data"
    }
   ],
   "source": [
    "\n",
    "\n",
    "# Now let's plot the results. In blue we have the data, in green the training period, and in red our prediction\n",
    "trainPredictPlot = numpy.empty_like(dataset_norm)\n",
    "trainPredictPlot[:, ] = numpy.nan\n",
    "\n",
    "trainPredictPlot[look_back:len(trainPredict)+look_back, ] = trainPredict[:,0].reshape(-1,1)\n",
    "# shift test predictions for plotting\n",
    "testPredictPlot = numpy.empty_like(dataset_norm)\n",
    "testPredictPlot[:,] = numpy.nan\n",
    "testPredictPlot[len(trainPredict)+(look_back*2)+1:len(dataset['Close'])-1, ] = testPredict[:,0].reshape(-1,1)\n",
    "# plot baseline and predictions.reshape(-1,1)\n",
    "plt.plot(de_normalization(dataset['Close'].values.reshape(-1,1),dataset_norm))\n",
    "plt.plot(trainPredictPlot)\n",
    "plt.plot(testPredictPlot)\n",
    "plt.show()\n",
    "\n"
   ]
  },
  {
   "cell_type": "code",
   "execution_count": null,
   "metadata": {
    "collapsed": true
   },
   "outputs": [],
   "source": []
  }
 ],
 "metadata": {
  "anaconda-cloud": {},
  "kernelspec": {
   "display_name": "Python 3",
   "language": "python",
   "name": "python3"
  },
  "language_info": {
   "codemirror_mode": {
    "name": "ipython",
    "version": 3
   },
   "file_extension": ".py",
   "mimetype": "text/x-python",
   "name": "python",
   "nbconvert_exporter": "python",
   "pygments_lexer": "ipython3",
   "version": "3.6.1"
  }
 },
 "nbformat": 4,
 "nbformat_minor": 1
}
