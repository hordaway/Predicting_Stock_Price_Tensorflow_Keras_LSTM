{
 "cells": [
  {
   "cell_type": "code",
   "execution_count": 1,
   "metadata": {},
   "outputs": [
    {
     "name": "stderr",
     "output_type": "stream",
     "text": [
      "Using TensorFlow backend.\n"
     ]
    }
   ],
   "source": [
    "import pandas as pd\n",
    "from keras.layers.core import Dense, Activation, Dropout\n",
    "from keras.layers.recurrent import LSTM\n",
    "from keras.models import Sequential\n",
    "from sklearn.preprocessing import MinMaxScaler\n",
    "from sklearn.metrics import mean_squared_error\n",
    "import math\n",
    "import numpy\n",
    "import matplotlib.pyplot as plt\n"
   ]
  },
  {
   "cell_type": "code",
   "execution_count": 2,
   "metadata": {
    "collapsed": true
   },
   "outputs": [],
   "source": [
    "# Parameters. Choose the stock for the analysis. Also choose the delta_time of the prediction \n",
    "# (look_back variable, if you want to predict one day, two days, etc...). Here we chose Google stock price. \n",
    "\n",
    "companies = 'GOOG'\n",
    "look_back = 1"
   ]
  },
  {
   "cell_type": "code",
   "execution_count": 3,
   "metadata": {
    "collapsed": true
   },
   "outputs": [],
   "source": [
    "# This function retrieves the closing price of the stock. \n",
    "\n",
    "def get_historical_close_data(name):\n",
    "    url = \"https://www.google.com/finance/historical?q=%s&startdate=01-Jan-2000&output=csv\"%name\n",
    "    \n",
    "    data = pd.read_csv(url)\n",
    "    data = data.loc[:,('Date','Close')]\n",
    "    data = data.sort_index(ascending = False)\n",
    "    return data"
   ]
  },
  {
   "cell_type": "code",
   "execution_count": 4,
   "metadata": {
    "collapsed": true
   },
   "outputs": [],
   "source": [
    "# This function normalizes the data (using min max sklearn package). We can achieve better predictions using normalized \n",
    "# data. After making the prediciton, we \"undo\" the normalization using the de_normalization function.\n",
    "\n",
    "\n",
    "def normalization(data):\n",
    "    scaler = MinMaxScaler(feature_range = (0,1))\n",
    "    data_norm = scaler.fit_transform(data)\n",
    "    \n",
    "    return data_norm\n",
    "\n",
    "def de_normalization(data, new_data):\n",
    "    scaler = MinMaxScaler(feature_range = (0,1))\n",
    "    scaler.fit_transform(data)\n",
    "    unormalized = scaler.inverse_transform(new_data)\n",
    "    \n",
    "    return unormalized"
   ]
  },
  {
   "cell_type": "code",
   "execution_count": 5,
   "metadata": {
    "collapsed": true
   },
   "outputs": [],
   "source": [
    "# Time Series train test split is different from the usual split. We cannot select randomly because the sequence of\n",
    "# information presented by the time series is important. In this case, we will use the first 2/3 of the data set \n",
    "# as training set, and the other 1/3 data set as testing set. Later, we will use other methods for comparison. \n",
    "\n",
    "\n",
    "def split_train_test(data):\n",
    "    \n",
    "\n",
    "    # split into train and test sets\n",
    "    train_size = int(len(data) * 0.67)\n",
    "    train, test = data[0:train_size,], data[train_size:len(data),]\n",
    "    return train, test\n"
   ]
  },
  {
   "cell_type": "code",
   "execution_count": 6,
   "metadata": {
    "collapsed": true
   },
   "outputs": [],
   "source": [
    "# This function creates a dataset with two series, the first one is our database (series of prices), and the second one \n",
    "# is the same database that will be predicted. This second database is our price list moved one day ahead (look_back variable)\n",
    "\n",
    "\n",
    "def create_dataset(dataset, lookback):\n",
    "    dataX, dataY = [], []\n",
    "    for i in range(len(dataset)-lookback-1):\n",
    "        a = dataset[i:(i+lookback), ]\n",
    "        dataX.append(a)\n",
    "        dataY.append(dataset[i + lookback, ])\n",
    "    return numpy.array(dataX), numpy.array(dataY)\n"
   ]
  },
  {
   "cell_type": "code",
   "execution_count": 13,
   "metadata": {},
   "outputs": [],
   "source": [
    "# Here we have the code to retrieve and work the dataset, using the functions defined above. \n",
    "\n",
    "dataset = get_historical_close_data(companies)\n",
    "\n",
    "dataset_norm = normalization(dataset['Close'].values.reshape(-1,1))\n",
    "\n",
    "train_dataset, test_dataset = split_train_test(dataset_norm)\n",
    "\n",
    "train_X, train_y = create_dataset(train_dataset, look_back)\n",
    "\n",
    "test_X, test_y = create_dataset(test_dataset,look_back)\n"
   ]
  },
  {
   "cell_type": "code",
   "execution_count": 14,
   "metadata": {},
   "outputs": [],
   "source": [
    "# We are going to reshape the X set because the LSTM cells of the tensorflow receives as input the \n",
    "# [samples, timesteps, features]\n",
    "train_X = numpy.reshape(train_X, (train_X.shape[0], 1 , train_X.shape[1]))\n",
    "test_X = numpy.reshape(test_X, (test_X.shape[0], 1, test_X.shape[1]))\n"
   ]
  },
  {
   "cell_type": "code",
   "execution_count": 32,
   "metadata": {},
   "outputs": [
    {
     "ename": "SyntaxError",
     "evalue": "invalid syntax (<ipython-input-32-bd7ef7dd889b>, line 7)",
     "output_type": "error",
     "traceback": [
      "\u001b[0;36m  File \u001b[0;32m\"<ipython-input-32-bd7ef7dd889b>\"\u001b[0;36m, line \u001b[0;32m7\u001b[0m\n\u001b[0;31m    model.add(Dense(1))\u001b[0m\n\u001b[0m        ^\u001b[0m\n\u001b[0;31mSyntaxError\u001b[0m\u001b[0;31m:\u001b[0m invalid syntax\n"
     ]
    }
   ],
   "source": [
    "# Now let's go to the model. First we stablish our model as a sequential one (time series). Than we add four Long Short\n",
    "# Term Memories, one Dense Layer (it is used change the dimension of the vector), The compile with a loss function and\n",
    "# an optimizer and finally, the fit function, with 3 epochs (more than that we fall into over training). \n",
    "\n",
    "model = Sequential()\n",
    "model.add(LSTM(32, input_shape=(None,1))\n",
    "model.add(Dense(1))\n",
    "model.compile(loss='mean_squared_error', optimizer='adam')\n",
    "model.fit(train_X, train_y, nb_epoch=3, batch_size=1, verbose=2)"
   ]
  },
  {
   "cell_type": "code",
   "execution_count": 22,
   "metadata": {
    "collapsed": true
   },
   "outputs": [],
   "source": [
    "# Now lets make the predictions of the normalized data.\n",
    "trainPredict = model.predict(train_X)\n",
    "testPredict = model.predict(test_X)"
   ]
  },
  {
   "cell_type": "code",
   "execution_count": 23,
   "metadata": {},
   "outputs": [],
   "source": [
    "# Revert the predictions from normalized to regular values\n",
    "\n",
    "trainPredict = de_normalization(dataset['Close'].values.reshape(-1,1), trainPredict)\n",
    "train_y = de_normalization(dataset['Close'].values.reshape(-1,1),train_y)\n",
    "testPredict = de_normalization(dataset['Close'].values.reshape(-1,1), testPredict)\n",
    "test_y = de_normalization(dataset['Close'].values.reshape(-1,1),test_y)"
   ]
  },
  {
   "cell_type": "code",
   "execution_count": 24,
   "metadata": {},
   "outputs": [
    {
     "name": "stdout",
     "output_type": "stream",
     "text": [
      "Train Score: 5.83 RMSE\n",
      "Test Score: 18.73 RMSE\n"
     ]
    }
   ],
   "source": [
    "# Now lets compute the mean squared error.\n",
    "trainScore = math.sqrt(mean_squared_error(train_y, trainPredict[:,0]))\n",
    "print('Train Score: %.2f RMSE' % (trainScore))\n",
    "testScore = math.sqrt(mean_squared_error(test_y, testPredict[:,0]))\n",
    "print('Test Score: %.2f RMSE' % (testScore))\n"
   ]
  },
  {
   "cell_type": "code",
   "execution_count": 30,
   "metadata": {},
   "outputs": [
    {
     "data": {
      "image/png": "[encoded data removed]",
      "text/plain": [
       "<matplotlib.figure.Figure at 0x12ca584e0>"
      ]
     },
     "metadata": {},
     "output_type": "display_data"
    }
   ],
   "source": [
    "\n",
    "\n",
    "# Now let's plot the results. In blue we have the data, in green the training period, and in red our prediction\n",
    "trainPredictPlot = numpy.empty_like(dataset_norm)\n",
    "trainPredictPlot[:, ] = numpy.nan\n",
    "\n",
    "trainPredictPlot[look_back:len(trainPredict)+look_back, ] = trainPredict[:,0].reshape(-1,1)\n",
    "# shift test predictions for plotting\n",
    "testPredictPlot = numpy.empty_like(dataset_norm)\n",
    "testPredictPlot[:,] = numpy.nan\n",
    "testPredictPlot[len(trainPredict)+(look_back*2)+1:len(dataset['Close'])-1, ] = testPredict[:,0].reshape(-1,1)\n",
    "# plot baseline and predictions.reshape(-1,1)\n",
    "plt.plot(de_normalization(dataset['Close'].values.reshape(-1,1),dataset_norm))\n",
    "plt.plot(trainPredictPlot)\n",
    "plt.plot(testPredictPlot)\n",
    "plt.show()\n",
    "\n"
   ]
  },
  {
   "cell_type": "code",
   "execution_count": 31,
   "metadata": {},
   "outputs": [
    {
     "name": "stdout",
     "output_type": "stream",
     "text": [
      "           Date   Close\n",
      "3264  19-Aug-04   50.12\n",
      "3263  20-Aug-04   54.10\n",
      "3262  23-Aug-04   54.65\n",
      "3261  24-Aug-04   52.38\n",
      "3260  25-Aug-04   52.95\n",
      "3259  26-Aug-04   53.90\n",
      "3258  27-Aug-04   53.02\n",
      "3257  30-Aug-04   50.95\n",
      "3256  31-Aug-04   51.13\n",
      "3255   1-Sep-04   50.07\n",
      "3254   2-Sep-04   50.70\n",
      "3253   3-Sep-04   49.95\n",
      "3252   7-Sep-04   50.74\n",
      "3251   8-Sep-04   51.10\n",
      "3250   9-Sep-04   51.10\n",
      "3249  10-Sep-04   52.61\n",
      "3248  13-Sep-04   53.70\n",
      "3247  14-Sep-04   55.69\n",
      "3246  15-Sep-04   55.94\n",
      "3245  16-Sep-04   56.93\n",
      "3244  17-Sep-04   58.69\n",
      "3243  20-Sep-04   59.62\n",
      "3242  21-Sep-04   58.86\n",
      "3241  22-Sep-04   59.13\n",
      "3240  23-Sep-04   60.35\n",
      "3239  24-Sep-04   59.86\n",
      "3238  27-Sep-04   59.07\n",
      "3237  28-Sep-04   63.37\n",
      "3236  29-Sep-04   65.47\n",
      "3235  30-Sep-04   64.74\n",
      "...         ...     ...\n",
      "29    27-Jun-17  927.33\n",
      "28    28-Jun-17  940.49\n",
      "27    29-Jun-17  917.79\n",
      "26    30-Jun-17  908.73\n",
      "25     3-Jul-17  898.70\n",
      "24     5-Jul-17  911.71\n",
      "23     6-Jul-17  906.69\n",
      "22     7-Jul-17  918.59\n",
      "21    10-Jul-17  928.80\n",
      "20    11-Jul-17  930.09\n",
      "19    12-Jul-17  943.83\n",
      "18    13-Jul-17  947.16\n",
      "17    14-Jul-17  955.99\n",
      "16    17-Jul-17  953.42\n",
      "15    18-Jul-17  965.40\n",
      "14    19-Jul-17  970.89\n",
      "13    20-Jul-17  968.15\n",
      "12    21-Jul-17  972.92\n",
      "11    24-Jul-17  980.34\n",
      "10    25-Jul-17  950.70\n",
      "9     26-Jul-17  947.80\n",
      "8     27-Jul-17  934.09\n",
      "7     28-Jul-17  941.53\n",
      "6     31-Jul-17  930.50\n",
      "5      1-Aug-17  930.83\n",
      "4      2-Aug-17  930.39\n",
      "3      3-Aug-17  923.65\n",
      "2      4-Aug-17  927.96\n",
      "1      7-Aug-17  929.36\n",
      "0      8-Aug-17  926.79\n",
      "\n",
      "[3265 rows x 2 columns]\n"
     ]
    }
   ],
   "source": [
    "\n"
   ]
  },
  {
   "cell_type": "code",
   "execution_count": null,
   "metadata": {
    "collapsed": true
   },
   "outputs": [],
   "source": []
  }
 ],
 "metadata": {
  "anaconda-cloud": {},
  "kernelspec": {
   "display_name": "Python 3",
   "language": "python",
   "name": "python3"
  },
  "language_info": {
   "codemirror_mode": {
    "name": "ipython",
    "version": 3
   },
   "file_extension": ".py",
   "mimetype": "text/x-python",
   "name": "python",
   "nbconvert_exporter": "python",
   "pygments_lexer": "ipython3",
   "version": "3.6.1"
  }
 },
 "nbformat": 4,
 "nbformat_minor": 1
}
