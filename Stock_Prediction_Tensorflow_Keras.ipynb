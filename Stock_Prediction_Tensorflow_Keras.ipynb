{
 "cells": [
  {
   "cell_type": "code",
   "execution_count": 31,
   "metadata": {
    "collapsed": false
   },
   "outputs": [],
   "source": [
    "from keras.layers.core import Dense, Activation, Dropout\n",
    "from keras.layers.recurrent import LSTM\n",
    "from keras.models import Sequential\n",
    "from yahoo_finance import Share\n",
    "from sklearn.preprocessing import MinMaxScaler\n",
    "from sklearn.metrics import mean_squared_error\n",
    "import math\n",
    "import numpy\n",
    "import matplotlib.pyplot as plt"
   ]
  },
  {
   "cell_type": "code",
   "execution_count": 3,
   "metadata": {
    "collapsed": true
   },
   "outputs": [],
   "source": [
    "# Parameters. Choose the stock, and the timeframe of the analysis. Also choose the delta_time of the prediction \n",
    "# (look_back variable). Here we chose Google stock price. \n",
    "\n",
    "companies = 'GOOG'\n",
    "initial_date = '2010-01-01'\n",
    "final_date = '2017-01-01'\n",
    "look_back = 1\n",
    "\n"
   ]
  },
  {
   "cell_type": "code",
   "execution_count": 4,
   "metadata": {
    "collapsed": true
   },
   "outputs": [],
   "source": [
    "# This function retrieves the closing price of the stock. \n",
    "\n",
    "def get_close_quote(stock, time0, time1):\n",
    "    \n",
    "    stock1 = Share('%s'%(stock))\n",
    "    Data = stock1.get_historical('%s'%(time0),'%s'%(time1))\n",
    "\n",
    "    Data1 = []\n",
    "    \n",
    "    for i in range(0,len(Data)):\n",
    "        Data1.append(Data[i][\"Adj_Close\"])\n",
    "    \n",
    "    return numpy.array(Data1, dtype = float)"
   ]
  },
  {
   "cell_type": "code",
   "execution_count": 22,
   "metadata": {
    "collapsed": true
   },
   "outputs": [],
   "source": [
    "# This function normalizes the data (using min max sklearn package). We can achieve better predictions using normalized \n",
    "# data. After making the prediciton, we \"undo\" the normalization using the de_normalization function.\n",
    "\n",
    "\n",
    "def normalization(data):\n",
    "    scaler = MinMaxScaler(feature_range = (0,1))\n",
    "    data_norm = scaler.fit_transform(data)\n",
    "    \n",
    "    return data_norm\n",
    "\n",
    "def de_normalization(data, new_data):\n",
    "    scaler = MinMaxScaler(feature_range = (0,1))\n",
    "    scaler.fit_transform(data)\n",
    "    unormalized = scaler.inverse_transform(new_data)\n",
    "    \n",
    "    return unormalized"
   ]
  },
  {
   "cell_type": "code",
   "execution_count": 6,
   "metadata": {
    "collapsed": true
   },
   "outputs": [],
   "source": [
    "# Time Series train test split is different from the usual split. We cannot select randomly because the sequence of\n",
    "# information presented by the time series is important. in this case we will use the first 2/3 of the data set \n",
    "# as training set, and the other 1/3 data set as testing set. Latter we will use other methods for comparison. \n",
    "\n",
    "\n",
    "def split_train_test(data):\n",
    "    \n",
    "\n",
    "    # split into train and test sets\n",
    "    train_size = int(len(data) * 0.67)\n",
    "    train, test = data[0:train_size,], data[train_size:len(data),]\n",
    "    return train, test\n"
   ]
  },
  {
   "cell_type": "code",
   "execution_count": 8,
   "metadata": {
    "collapsed": true
   },
   "outputs": [],
   "source": [
    "# This function creates a dataset with two series, the first one is our database (series of prices), and the second one \n",
    "# is the same database that will be predicted. This database is our price list moved one day ahead (look_back variable)\n",
    "\n",
    "\n",
    "def create_dataset(dataset, lookback):\n",
    "    dataX, dataY = [], []\n",
    "    for i in range(len(dataset)-lookback-1):\n",
    "        a = dataset[i:(i+lookback), ]\n",
    "        dataX.append(a)\n",
    "        dataY.append(dataset[i + lookback, ])\n",
    "    return numpy.array(dataX), numpy.array(dataY)\n"
   ]
  },
  {
   "cell_type": "code",
   "execution_count": 23,
   "metadata": {
    "collapsed": false
   },
   "outputs": [
    {
     "name": "stderr",
     "output_type": "stream",
     "text": [
      "/Users/ViniciusPantoja/.local/lib/python2.7/site-packages/sklearn/preprocessing/data.py:321: DeprecationWarning: Passing 1d arrays as data is deprecated in 0.17 and will raise ValueError in 0.19. Reshape your data either using X.reshape(-1, 1) if your data has a single feature or X.reshape(1, -1) if it contains a single sample.\n",
      "  warnings.warn(DEPRECATION_MSG_1D, DeprecationWarning)\n",
      "/Users/ViniciusPantoja/.local/lib/python2.7/site-packages/sklearn/preprocessing/data.py:356: DeprecationWarning: Passing 1d arrays as data is deprecated in 0.17 and will raise ValueError in 0.19. Reshape your data either using X.reshape(-1, 1) if your data has a single feature or X.reshape(1, -1) if it contains a single sample.\n",
      "  warnings.warn(DEPRECATION_MSG_1D, DeprecationWarning)\n"
     ]
    }
   ],
   "source": [
    "# Here we have the code to retrieve and work the dataset, using the functions defined above. \n",
    "\n",
    "dataset = get_close_quote(companies, initial_date, final_date)\n",
    "\n",
    "dataset_norm = normalization(dataset)\n",
    "\n",
    "train_dataset, test_dataset = split_train_test(dataset_norm)\n",
    "\n",
    "train_X, train_y = create_dataset(train_dataset, look_back)\n",
    "\n",
    "test_X, test_y = create_dataset(test_dataset,look_back)\n"
   ]
  },
  {
   "cell_type": "code",
   "execution_count": 25,
   "metadata": {
    "collapsed": false
   },
   "outputs": [],
   "source": [
    "# We are going to reshape the X set because the LSTM cells of the tensorflow receives as input the \n",
    "# [samples, timesteps, features]\n",
    "train_X = numpy.reshape(train_X, (train_X.shape[0], 1 , train_X.shape[1]))\n",
    "test_X = numpy.reshape(test_X, (test_X.shape[0], 1, test_X.shape[1]))\n"
   ]
  },
  {
   "cell_type": "code",
   "execution_count": 26,
   "metadata": {
    "collapsed": false
   },
   "outputs": [
    {
     "name": "stdout",
     "output_type": "stream",
     "text": [
      "Epoch 1/15\n",
      "20s - loss: 0.0294\n",
      "Epoch 2/15\n",
      "24s - loss: 0.0012\n",
      "Epoch 3/15\n",
      "24s - loss: 2.7861e-04\n",
      "Epoch 4/15\n",
      "25s - loss: 2.5372e-04\n",
      "Epoch 5/15\n",
      "18s - loss: 2.3868e-04\n",
      "Epoch 6/15\n",
      "20s - loss: 2.2587e-04\n",
      "Epoch 7/15\n",
      "18s - loss: 2.2538e-04\n",
      "Epoch 8/15\n",
      "19s - loss: 2.2574e-04\n",
      "Epoch 9/15\n",
      "16s - loss: 2.2592e-04\n",
      "Epoch 10/15\n",
      "16s - loss: 2.2373e-04\n",
      "Epoch 11/15\n",
      "16s - loss: 2.2383e-04\n",
      "Epoch 12/15\n",
      "17s - loss: 2.2662e-04\n",
      "Epoch 13/15\n",
      "18s - loss: 2.2308e-04\n",
      "Epoch 14/15\n",
      "17s - loss: 2.2632e-04\n",
      "Epoch 15/15\n",
      "17s - loss: 2.1748e-04\n"
     ]
    },
    {
     "data": {
      "text/plain": [
       "<keras.callbacks.History at 0x120069fd0>"
      ]
     },
     "execution_count": 26,
     "metadata": {},
     "output_type": "execute_result"
    }
   ],
   "source": [
    "# Now let's go to the model. First we stablish our model as a sequential one (time series). Than we add four Long Short\n",
    "# Term Memories, one Dense Layer (it is used change the dimension of the vector), The compile with a loss function and\n",
    "# an optimizer and finally, the fit function, with 15 epochs. \n",
    "\n",
    "model = Sequential()\n",
    "model.add(LSTM(4, input_dim=1))\n",
    "model.add(Dense(1))\n",
    "model.compile(loss='mean_squared_error', optimizer='adam')\n",
    "model.fit(train_X, train_y, nb_epoch=15, batch_size=1, verbose=2)\n"
   ]
  },
  {
   "cell_type": "code",
   "execution_count": 27,
   "metadata": {
    "collapsed": true
   },
   "outputs": [],
   "source": [
    "# Now lets make the predictions of the normalized data.\n",
    "trainPredict = model.predict(train_X)\n",
    "testPredict = model.predict(test_X)"
   ]
  },
  {
   "cell_type": "code",
   "execution_count": 28,
   "metadata": {
    "collapsed": false
   },
   "outputs": [
    {
     "name": "stderr",
     "output_type": "stream",
     "text": [
      "/Users/ViniciusPantoja/.local/lib/python2.7/site-packages/sklearn/preprocessing/data.py:321: DeprecationWarning: Passing 1d arrays as data is deprecated in 0.17 and will raise ValueError in 0.19. Reshape your data either using X.reshape(-1, 1) if your data has a single feature or X.reshape(1, -1) if it contains a single sample.\n",
      "  warnings.warn(DEPRECATION_MSG_1D, DeprecationWarning)\n",
      "/Users/ViniciusPantoja/.local/lib/python2.7/site-packages/sklearn/preprocessing/data.py:356: DeprecationWarning: Passing 1d arrays as data is deprecated in 0.17 and will raise ValueError in 0.19. Reshape your data either using X.reshape(-1, 1) if your data has a single feature or X.reshape(1, -1) if it contains a single sample.\n",
      "  warnings.warn(DEPRECATION_MSG_1D, DeprecationWarning)\n",
      "/Users/ViniciusPantoja/.local/lib/python2.7/site-packages/sklearn/preprocessing/data.py:321: DeprecationWarning: Passing 1d arrays as data is deprecated in 0.17 and will raise ValueError in 0.19. Reshape your data either using X.reshape(-1, 1) if your data has a single feature or X.reshape(1, -1) if it contains a single sample.\n",
      "  warnings.warn(DEPRECATION_MSG_1D, DeprecationWarning)\n",
      "/Users/ViniciusPantoja/.local/lib/python2.7/site-packages/sklearn/preprocessing/data.py:356: DeprecationWarning: Passing 1d arrays as data is deprecated in 0.17 and will raise ValueError in 0.19. Reshape your data either using X.reshape(-1, 1) if your data has a single feature or X.reshape(1, -1) if it contains a single sample.\n",
      "  warnings.warn(DEPRECATION_MSG_1D, DeprecationWarning)\n",
      "/Users/ViniciusPantoja/.local/lib/python2.7/site-packages/sklearn/preprocessing/data.py:374: DeprecationWarning: Passing 1d arrays as data is deprecated in 0.17 and will raise ValueError in 0.19. Reshape your data either using X.reshape(-1, 1) if your data has a single feature or X.reshape(1, -1) if it contains a single sample.\n",
      "  warnings.warn(DEPRECATION_MSG_1D, DeprecationWarning)\n",
      "/Users/ViniciusPantoja/.local/lib/python2.7/site-packages/sklearn/preprocessing/data.py:321: DeprecationWarning: Passing 1d arrays as data is deprecated in 0.17 and will raise ValueError in 0.19. Reshape your data either using X.reshape(-1, 1) if your data has a single feature or X.reshape(1, -1) if it contains a single sample.\n",
      "  warnings.warn(DEPRECATION_MSG_1D, DeprecationWarning)\n",
      "/Users/ViniciusPantoja/.local/lib/python2.7/site-packages/sklearn/preprocessing/data.py:356: DeprecationWarning: Passing 1d arrays as data is deprecated in 0.17 and will raise ValueError in 0.19. Reshape your data either using X.reshape(-1, 1) if your data has a single feature or X.reshape(1, -1) if it contains a single sample.\n",
      "  warnings.warn(DEPRECATION_MSG_1D, DeprecationWarning)\n",
      "/Users/ViniciusPantoja/.local/lib/python2.7/site-packages/sklearn/preprocessing/data.py:321: DeprecationWarning: Passing 1d arrays as data is deprecated in 0.17 and will raise ValueError in 0.19. Reshape your data either using X.reshape(-1, 1) if your data has a single feature or X.reshape(1, -1) if it contains a single sample.\n",
      "  warnings.warn(DEPRECATION_MSG_1D, DeprecationWarning)\n",
      "/Users/ViniciusPantoja/.local/lib/python2.7/site-packages/sklearn/preprocessing/data.py:356: DeprecationWarning: Passing 1d arrays as data is deprecated in 0.17 and will raise ValueError in 0.19. Reshape your data either using X.reshape(-1, 1) if your data has a single feature or X.reshape(1, -1) if it contains a single sample.\n",
      "  warnings.warn(DEPRECATION_MSG_1D, DeprecationWarning)\n",
      "/Users/ViniciusPantoja/.local/lib/python2.7/site-packages/sklearn/preprocessing/data.py:374: DeprecationWarning: Passing 1d arrays as data is deprecated in 0.17 and will raise ValueError in 0.19. Reshape your data either using X.reshape(-1, 1) if your data has a single feature or X.reshape(1, -1) if it contains a single sample.\n",
      "  warnings.warn(DEPRECATION_MSG_1D, DeprecationWarning)\n"
     ]
    }
   ],
   "source": [
    "# Revert the predictions from normalized to regular values\n",
    "\n",
    "trainPredict = de_normalization(dataset, trainPredict)\n",
    "train_y = de_normalization(dataset,train_y)\n",
    "testPredict = de_normalization(dataset, testPredict)\n",
    "test_y = de_normalization(dataset,test_y)"
   ]
  },
  {
   "cell_type": "code",
   "execution_count": 29,
   "metadata": {
    "collapsed": false
   },
   "outputs": [
    {
     "name": "stdout",
     "output_type": "stream",
     "text": [
      "Train Score: 9.52 RMSE\n",
      "Test Score: 9.57 RMSE\n"
     ]
    }
   ],
   "source": [
    "# Now lets compute the mean squared error.\n",
    "trainScore = math.sqrt(mean_squared_error(train_y, trainPredict[:,0]))\n",
    "print('Train Score: %.2f RMSE' % (trainScore))\n",
    "testScore = math.sqrt(mean_squared_error(test_y, testPredict[:,0]))\n",
    "print('Test Score: %.2f RMSE' % (testScore))"
   ]
  },
  {
   "cell_type": "code",
   "execution_count": 32,
   "metadata": {
    "collapsed": false
   },
   "outputs": [
    {
     "name": "stderr",
     "output_type": "stream",
     "text": [
      "/Users/ViniciusPantoja/.local/lib/python2.7/site-packages/sklearn/preprocessing/data.py:321: DeprecationWarning: Passing 1d arrays as data is deprecated in 0.17 and will raise ValueError in 0.19. Reshape your data either using X.reshape(-1, 1) if your data has a single feature or X.reshape(1, -1) if it contains a single sample.\n",
      "  warnings.warn(DEPRECATION_MSG_1D, DeprecationWarning)\n",
      "/Users/ViniciusPantoja/.local/lib/python2.7/site-packages/sklearn/preprocessing/data.py:356: DeprecationWarning: Passing 1d arrays as data is deprecated in 0.17 and will raise ValueError in 0.19. Reshape your data either using X.reshape(-1, 1) if your data has a single feature or X.reshape(1, -1) if it contains a single sample.\n",
      "  warnings.warn(DEPRECATION_MSG_1D, DeprecationWarning)\n",
      "/Users/ViniciusPantoja/.local/lib/python2.7/site-packages/sklearn/preprocessing/data.py:374: DeprecationWarning: Passing 1d arrays as data is deprecated in 0.17 and will raise ValueError in 0.19. Reshape your data either using X.reshape(-1, 1) if your data has a single feature or X.reshape(1, -1) if it contains a single sample.\n",
      "  warnings.warn(DEPRECATION_MSG_1D, DeprecationWarning)\n"
     ]
    },
    {
     "data": {
      "image/png": "[encoded data removed]",
      "text/plain": [
       "<matplotlib.figure.Figure at 0x11bc1ea10>"
      ]
     },
     "metadata": {},
     "output_type": "display_data"
    }
   ],
   "source": [
    "\n",
    "\n",
    "# Now let's plot the results. In blue we have the data, in green the training period, and in red our prediction\n",
    "trainPredictPlot = numpy.empty_like(dataset_norm)\n",
    "trainPredictPlot[:, ] = numpy.nan\n",
    "trainPredictPlot[look_back:len(trainPredict)+look_back, ] = trainPredict[:,0]\n",
    "# shift test predictions for plotting\n",
    "testPredictPlot = numpy.empty_like(dataset_norm)\n",
    "testPredictPlot[:,] = numpy.nan\n",
    "testPredictPlot[len(trainPredict)+(look_back*2)+1:len(dataset)-1, ] = testPredict[:,0]\n",
    "# plot baseline and predictions\n",
    "plt.plot(de_normalization(dataset,dataset_norm))\n",
    "plt.plot(trainPredictPlot)\n",
    "plt.plot(testPredictPlot)\n",
    "plt.show()\n",
    "\n"
   ]
  },
  {
   "cell_type": "code",
   "execution_count": null,
   "metadata": {
    "collapsed": true
   },
   "outputs": [],
   "source": []
  }
 ],
 "metadata": {
  "anaconda-cloud": {},
  "kernelspec": {
   "display_name": "Python [default]",
   "language": "python",
   "name": "python2"
  },
  "language_info": {
   "codemirror_mode": {
    "name": "ipython",
    "version": 2
   },
   "file_extension": ".py",
   "mimetype": "text/x-python",
   "name": "python",
   "nbconvert_exporter": "python",
   "pygments_lexer": "ipython2",
   "version": "2.7.12"
  }
 },
 "nbformat": 4,
 "nbformat_minor": 1
}
